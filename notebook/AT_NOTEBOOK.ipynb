{
  "nbformat": 4,
  "nbformat_minor": 0,
  "metadata": {
    "colab": {
      "provenance": []
    },
    "kernelspec": {
      "name": "python3",
      "display_name": "Python 3"
    },
    "language_info": {
      "name": "python"
    }
  },
  "cells": [
    {
      "cell_type": "code",
      "execution_count": 1,
      "metadata": {
        "colab": {
          "base_uri": "https://localhost:8080/"
        },
        "id": "eblp859vAslK",
        "outputId": "09468ee0-f11e-42a1-8451-2fd990d162bf"
      },
      "outputs": [
        {
          "output_type": "stream",
          "name": "stdout",
          "text": [
            "\u001b[2K     \u001b[90m━━━━━━━━━━━━━━━━━━━━━━━━━━━━━━━━━━━━━━━━\u001b[0m \u001b[32m325.5/325.5 kB\u001b[0m \u001b[31m3.2 MB/s\u001b[0m eta \u001b[36m0:00:00\u001b[0m\n",
            "\u001b[2K     \u001b[90m━━━━━━━━━━━━━━━━━━━━━━━━━━━━━━━━━━━━━━━━\u001b[0m \u001b[32m75.6/75.6 kB\u001b[0m \u001b[31m4.5 MB/s\u001b[0m eta \u001b[36m0:00:00\u001b[0m\n",
            "\u001b[2K     \u001b[90m━━━━━━━━━━━━━━━━━━━━━━━━━━━━━━━━━━━━━━━━\u001b[0m \u001b[32m77.9/77.9 kB\u001b[0m \u001b[31m5.2 MB/s\u001b[0m eta \u001b[36m0:00:00\u001b[0m\n",
            "\u001b[2K     \u001b[90m━━━━━━━━━━━━━━━━━━━━━━━━━━━━━━━━━━━━━━━━\u001b[0m \u001b[32m58.3/58.3 kB\u001b[0m \u001b[31m4.9 MB/s\u001b[0m eta \u001b[36m0:00:00\u001b[0m\n",
            "\u001b[2K     \u001b[90m━━━━━━━━━━━━━━━━━━━━━━━━━━━━━━━━━━━━━━━━\u001b[0m \u001b[32m78.2/78.2 kB\u001b[0m \u001b[31m1.9 MB/s\u001b[0m eta \u001b[36m0:00:00\u001b[0m\n",
            "\u001b[2K     \u001b[90m━━━━━━━━━━━━━━━━━━━━━━━━━━━━━━━━━━━━━━━━\u001b[0m \u001b[32m953.9/953.9 kB\u001b[0m \u001b[31m18.6 MB/s\u001b[0m eta \u001b[36m0:00:00\u001b[0m\n",
            "\u001b[2K     \u001b[90m━━━━━━━━━━━━━━━━━━━━━━━━━━━━━━━━━━━━━━━━\u001b[0m \u001b[32m21.3/21.3 MB\u001b[0m \u001b[31m53.8 MB/s\u001b[0m eta \u001b[36m0:00:00\u001b[0m\n",
            "\u001b[?25h"
          ]
        }
      ],
      "source": [
        "#Install Libraries\n",
        "!pip install openai --q\n",
        "!pip install nasim[dqn] --q\n",
        "!pip install pyyaml --q"
      ]
    },
    {
      "cell_type": "code",
      "source": [
        "###TINY EXAMPLE\n",
        "\n",
        "#Make imports\n",
        "import os\n",
        "from openai import OpenAI\n",
        "import yaml\n",
        "import subprocess\n",
        "import shutil\n",
        "import nasim\n",
        "import time\n",
        "#Load instructions and relative example\n",
        "filename1 = '/content/instruction.txt'\n",
        "filename2 = '/content/example.txt'\n",
        "# Read the content of the first text file\n",
        "with open(filename1, 'r') as file:\n",
        "    txt = file.read()\n",
        "\n",
        "# Read the content of the second text file\n",
        "with open(filename2, 'r') as file:\n",
        "    txt2 = file.read()\n",
        "#set api\n",
        "client = OpenAI(\n",
        "    api_key='sk-n*******************************',\n",
        ")\n",
        "text = f\"Given these instructions: {txt} I get this network: {txt2}\"\n",
        "\n",
        "generator = \"Given this example: \" + txt + ' create a new one with different setting. Do not provide explanations. do not prompt anything before hosts number'\n",
        "\n"
      ],
      "metadata": {
        "colab": {
          "base_uri": "https://localhost:8080/",
          "height": 245
        },
        "id": "uFNN4TztAvYY",
        "outputId": "3e5c9f67-c462-42df-b610-16db246f30af"
      },
      "execution_count": 2,
      "outputs": [
        {
          "output_type": "stream",
          "name": "stderr",
          "text": [
            "/usr/local/lib/python3.10/dist-packages/nasim/envs/render.py:17: UserWarning: Unable to import Matplotlib with TkAgg backend due to following exception: \"<class 'ImportError'> Cannot load backend 'TkAgg' which requires the 'tk' interactive framework, as 'headless' is currently running\". NASIM can still run but GUI functionallity may not work as expected.\n",
            "  warnings.warn(\n"
          ]
        },
        {
          "output_type": "error",
          "ename": "FileNotFoundError",
          "evalue": "[Errno 2] No such file or directory: '/content/instruction.txt'",
          "traceback": [
            "\u001b[0;31m---------------------------------------------------------------------------\u001b[0m",
            "\u001b[0;31mFileNotFoundError\u001b[0m                         Traceback (most recent call last)",
            "\u001b[0;32m<ipython-input-2-df2334a7e0e1>\u001b[0m in \u001b[0;36m<cell line: 15>\u001b[0;34m()\u001b[0m\n\u001b[1;32m     13\u001b[0m \u001b[0mfilename2\u001b[0m \u001b[0;34m=\u001b[0m \u001b[0;34m'/content/example.txt'\u001b[0m\u001b[0;34m\u001b[0m\u001b[0;34m\u001b[0m\u001b[0m\n\u001b[1;32m     14\u001b[0m \u001b[0;31m# Read the content of the first text file\u001b[0m\u001b[0;34m\u001b[0m\u001b[0;34m\u001b[0m\u001b[0m\n\u001b[0;32m---> 15\u001b[0;31m \u001b[0;32mwith\u001b[0m \u001b[0mopen\u001b[0m\u001b[0;34m(\u001b[0m\u001b[0mfilename1\u001b[0m\u001b[0;34m,\u001b[0m \u001b[0;34m'r'\u001b[0m\u001b[0;34m)\u001b[0m \u001b[0;32mas\u001b[0m \u001b[0mfile\u001b[0m\u001b[0;34m:\u001b[0m\u001b[0;34m\u001b[0m\u001b[0;34m\u001b[0m\u001b[0m\n\u001b[0m\u001b[1;32m     16\u001b[0m     \u001b[0mtxt\u001b[0m \u001b[0;34m=\u001b[0m \u001b[0mfile\u001b[0m\u001b[0;34m.\u001b[0m\u001b[0mread\u001b[0m\u001b[0;34m(\u001b[0m\u001b[0;34m)\u001b[0m\u001b[0;34m\u001b[0m\u001b[0;34m\u001b[0m\u001b[0m\n\u001b[1;32m     17\u001b[0m \u001b[0;34m\u001b[0m\u001b[0m\n",
            "\u001b[0;31mFileNotFoundError\u001b[0m: [Errno 2] No such file or directory: '/content/instruction.txt'"
          ]
        }
      ]
    },
    {
      "cell_type": "code",
      "source": [
        "#Example-Based Configuration\n",
        "\n",
        "store_output=[]\n",
        "db=[]\n",
        "status=[]\n",
        "safe=[]\n",
        "user_input = f\"now generate a new network configuration for this example: {txt}. Do not prompt 'Here is a new network configuration based on the provided requirements:'\".\n",
        "\n",
        "        if safe ==[]:\n",
        "          text_content = \"Given these instructions: \" + text + 'Learn this relationship and get ready to produce more of those.'\n",
        "        else:\n",
        "          #this is current reinforcment system\n",
        "          text_content = \"Given these instructions: \" + text + 'Learn this relationship and get ready to produce more of those.' + 'These configurations are successful:'+ str(safe)\n",
        "\n",
        "        stream = client.chat.completions.create(\n",
        "          model=\"gpt-4-turbo\",\n",
        "          messages=[\n",
        "              {\"role\": \"system\", \"content\": txt},\n",
        "              {\"role\": \"user\", \"content\": user_input}\n",
        "          ],\n",
        "          stream=True)\n",
        "        output_text = \"\"\n",
        "\n",
        "        for chunk in stream:\n",
        "          if chunk.choices[0].delta.content is not None:\n",
        "              output_text += chunk.choices[0].delta.content\n",
        "        #print(output_text)\n",
        "\n",
        "        with open('1.yaml', 'w') as file:\n",
        "          file.write(output_text)\n",
        "        tiny_yaml_path = '/usr/local/lib/python3.10/dist-packages/nasim/scenarios/benchmark/tiny.yaml'\n",
        "        new_yaml_path='/content/1.yaml'\n",
        "        shutil.copy(new_yaml_path, tiny_yaml_path)\n",
        "\n",
        "        result = subprocess.run(['python', '-m', 'nasim.demo', 'tiny'], capture_output=True, text=True)\n",
        "        if result.stdout == '':\n",
        "          print ('ERROR !!!!!!!!!!!!!!!!!!!!!!!!!!!!!!!')\n",
        "          db.append(output_text)\n",
        "          status.append('Error')\n",
        "        else:\n",
        "          db.append(output_text)\n",
        "          safe.append(output_text)\n",
        "          status.append('Success')\n",
        "          print ('SUCCESS !!!!!!!!!!!!!!!!!!!!!!!!!!!!')\n",
        "db.to_csv('1.csv')"
      ],
      "metadata": {
        "id": "Wzk3x3SeA6uV"
      },
      "execution_count": null,
      "outputs": []
    },
    {
      "cell_type": "code",
      "source": [
        "#Expanded Example-Based Configuration\n",
        "user_input = f\"now generate a new network configuration for this example: {txt}. Do not prompt 'Here is a new network configuration based on the provided requirements:'\".\n",
        "\n",
        "store_output=[]\n",
        "db=[]\n",
        "status=[]\n",
        "safe=[]\n",
        "        if safe ==[]:\n",
        "          text_content = \"Given these instructions: \" + text + 'Learn this relationship and get ready to produce more of those.' +read_csv + reflect (Exploration: Prompt the LLM to generate multiple candidate responses to the original query, without conditioning on previous outputs.\n",
        "Reflection: For each candidate response, prompt the LLM to provide a self-critique, identifying potential flaws or limitations in its reasoning.\n",
        "Revision: Based on the response-critique pairs, prompt the LLM to generate an improved final output that resolves the identified issues.)\n",
        "        else:\n",
        "          #this is current reinforcment system\n",
        "          text_content = \"Given these instructions: \" + text + 'Learn this relationship and get ready to produce more of those.' + 'These configurations are successful:'+ +read_csv + reflect + str(safe)\n",
        "\n",
        "        stream = client.chat.completions.create(\n",
        "          model=\"gpt-4-turbo\",\n",
        "          messages=[\n",
        "              {\"role\": \"system\", \"content\": txt},\n",
        "              {\"role\": \"user\", \"content\": user_input}\n",
        "          ],\n",
        "          stream=True)\n",
        "        output_text = \"\"\n",
        "\n",
        "        for chunk in stream:\n",
        "          if chunk.choices[0].delta.content is not None:\n",
        "              output_text += chunk.choices[0].delta.content\n",
        "        #print(output_text)\n",
        "\n",
        "        with open('1.yaml', 'w') as file:\n",
        "          file.write(output_text)\n",
        "        tiny_yaml_path = '/usr/local/lib/python3.10/dist-packages/nasim/scenarios/benchmark/tiny.yaml'\n",
        "        new_yaml_path='/content/1.yaml'\n",
        "        shutil.copy(new_yaml_path, tiny_yaml_path)\n",
        "\n",
        "        result = subprocess.run(['python', '-m', 'nasim.demo', 'tiny'], capture_output=True, text=True)\n",
        "        if result.stdout == '':\n",
        "          print ('ERROR !!!!!!!!!!!!!!!!!!!!!!!!!!!!!!!')\n",
        "          db.append(output_text)\n",
        "          status.append('Error')\n",
        "        else:\n",
        "          db.append(output_text)\n",
        "          safe.append(output_text)\n",
        "          status.append('Success')\n",
        "          print ('SUCCESS !!!!!!!!!!!!!!!!!!!!!!!!!!!!')\n",
        "db.to_csv('2.csv')\n"
      ],
      "metadata": {
        "id": "LmH3BkZuB_Bn"
      },
      "execution_count": null,
      "outputs": []
    },
    {
      "cell_type": "code",
      "source": [
        "#Explicit Geometric Network Topology (EGNT) Approach\n",
        "\n",
        "store_output=[]\n",
        "db=[]\n",
        "status=[]\n",
        "safe=[]\n",
        "topological_enanchment=  'The sum of subnets must be equal to the number of hosts. The network topology must be represented by a matrix of dimensions (1 + len(subnets)) x (1 + len(subnets)).'\n",
        "user_input = f\"now generate a new network configuration for this example: {txt}. {topological_enanchment} Do not prompt 'Here is a new network configuration based on the provided requirements:'. Refer to the documentation link: https://networkattacksimulator.readthedocs.io/en/latest/tutorials/scenarios.html#scenarios-tute\"\n",
        "\n",
        "\n",
        "\n",
        "        if safe ==[]:\n",
        "          text_content = \"Given these instructions: \" + text + 'Learn this relationship and get ready to produce more of those.'\n",
        "        else:\n",
        "          #this is current reinforcment system\n",
        "          text_content = \"Given these instructions: \" + text + 'Learn this relationship and get ready to produce more of those.' + 'These configurations are successful:' + str(safe)\n",
        "\n",
        "        stream = client.chat.completions.create(\n",
        "          model=\"gpt-4-turbo\",\n",
        "          messages=[\n",
        "              {\"role\": \"system\", \"content\": txt},\n",
        "              {\"role\": \"user\", \"content\": user_input}\n",
        "          ],\n",
        "          stream=True)\n",
        "        output_text = \"\"\n",
        "\n",
        "        for chunk in stream:\n",
        "          if chunk.choices[0].delta.content is not None:\n",
        "              output_text += chunk.choices[0].delta.content\n",
        "        #print(output_text)\n",
        "\n",
        "        with open('1.yaml', 'w') as file:\n",
        "          file.write(output_text)\n",
        "        tiny_yaml_path = '/usr/local/lib/python3.10/dist-packages/nasim/scenarios/benchmark/tiny.yaml'\n",
        "        new_yaml_path='/content/1.yaml'\n",
        "        shutil.copy(new_yaml_path, tiny_yaml_path)\n",
        "\n",
        "        result = subprocess.run(['python', '-m', 'nasim.demo', 'tiny'], capture_output=True, text=True)\n",
        "        if result.stdout == '':\n",
        "          print ('ERROR !!!!!!!!!!!!!!!!!!!!!!!!!!!!!!!')\n",
        "          db.append(output_text)\n",
        "          status.append('Error')\n",
        "        else:\n",
        "          db.append(output_text)\n",
        "          safe.append(output_text)\n",
        "          status.append('Success')\n",
        "          print ('SUCCESS !!!!!!!!!!!!!!!!!!!!!!!!!!!!')\n",
        "db.to_csv('3.csv')\n",
        "\n",
        "\n",
        "\n",
        "\n",
        "\n"
      ],
      "metadata": {
        "id": "TSVL_pQVCkwG"
      },
      "execution_count": null,
      "outputs": []
    },
    {
      "cell_type": "code",
      "source": [
        "#EGNT Approach + Expanded Example-Based Configuration (load filtered positive)\n",
        "\n",
        "\n",
        "store_output=[]\n",
        "db=[]\n",
        "status=[]\n",
        "safe=[]\n",
        "topological_enanchment=  'The sum of subnets must be equal to the number of hosts. The network topology must be represented by a matrix of dimensions (1 + len(subnets)) x (1 + len(subnets)).'\n",
        "user_input = f\"now generate a new network configuration for this example: {txt}. {topological_enanchment} Do not prompt 'Here is a new network configuration based on the provided requirements:'. Refer to the documentation link: https://networkattacksimulator.readthedocs.io/en/latest/tutorials/scenarios.html#scenarios-tute\"\n",
        "\n",
        "\n",
        "\n",
        "        if safe ==[]:\n",
        "          text_content = \"Given these instructions: \" + text + 'Learn this relationship and get ready to produce more of those.' + pd.read_csv(filtered)\n",
        "        else:\n",
        "          #this is current reinforcment system\n",
        "          text_content = \"Given these instructions: \" + text + 'Learn this relationship and get ready to produce more of those.' + 'These configurations are successful:' + + pd.read_csv(filtered) + str(safe)\n",
        "\n",
        "        stream = client.chat.completions.create(\n",
        "          model=\"gpt-4-turbo\",\n",
        "          messages=[\n",
        "              {\"role\": \"system\", \"content\": txt},\n",
        "              {\"role\": \"user\", \"content\": user_input}\n",
        "          ],\n",
        "          stream=True)\n",
        "        output_text = \"\"\n",
        "\n",
        "        for chunk in stream:\n",
        "          if chunk.choices[0].delta.content is not None:\n",
        "              output_text += chunk.choices[0].delta.content\n",
        "        #print(output_text)\n",
        "\n",
        "        with open('1.yaml', 'w') as file:\n",
        "          file.write(output_text)\n",
        "        tiny_yaml_path = '/usr/local/lib/python3.10/dist-packages/nasim/scenarios/benchmark/tiny.yaml'\n",
        "        new_yaml_path='/content/1.yaml'\n",
        "        shutil.copy(new_yaml_path, tiny_yaml_path)\n",
        "\n",
        "        result = subprocess.run(['python', '-m', 'nasim.demo', 'tiny'], capture_output=True, text=True)\n",
        "        if result.stdout == '':\n",
        "          print ('ERROR !!!!!!!!!!!!!!!!!!!!!!!!!!!!!!!')\n",
        "          db.append(output_text)\n",
        "          status.append('Error')\n",
        "        else:\n",
        "          db.append(output_text)\n",
        "          safe.append(output_text)\n",
        "          status.append('Success')\n",
        "          print ('SUCCESS !!!!!!!!!!!!!!!!!!!!!!!!!!!!')\n",
        "db.to_csv('4.csv')\n"
      ],
      "metadata": {
        "id": "RyWF031SCods"
      },
      "execution_count": null,
      "outputs": []
    }
  ]
}
